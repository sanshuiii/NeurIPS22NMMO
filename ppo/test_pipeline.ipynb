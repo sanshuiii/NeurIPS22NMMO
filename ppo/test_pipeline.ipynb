{
 "cells": [
  {
   "cell_type": "code",
   "execution_count": 2,
   "metadata": {},
   "outputs": [
    {
     "name": "stderr",
     "output_type": "stream",
     "text": [
      " 50%|█████     | 1/2 [00:00<00:00,  9.85it/s]"
     ]
    },
    {
     "name": "stdout",
     "output_type": "stream",
     "text": [
      "Generating 2 maps\n"
     ]
    },
    {
     "name": "stderr",
     "output_type": "stream",
     "text": [
      "100%|██████████| 2/2 [00:00<00:00,  9.49it/s]\n"
     ]
    }
   ],
   "source": [
    "import torch\n",
    "import numpy as np\n",
    "import nmmo\n",
    "from nmmo import config\n",
    "from neurips2022nmmo import CompetitionConfig, TeamBasedEnv\n",
    "from nmmo.io import action\n",
    "\n",
    "class TrainConfig(CompetitionConfig):\n",
    "    MAP_N = 2\n",
    "\n",
    "env = TeamBasedEnv(TrainConfig())\n",
    "\n",
    "obs = env.reset()\n",
    "\n",
    "obs,reward,done,info = env.step({})"
   ]
  },
  {
   "cell_type": "code",
   "execution_count": 3,
   "metadata": {
    "collapsed": false
   },
   "outputs": [],
   "source": [
    "import yaml\n",
    "from easydict import EasyDict\n",
    "\n",
    "with open(\"./scripts/config/config.yml\", 'r') as f:\n",
    "    arg_file = yaml.full_load(f)\n",
    "args = EasyDict(arg_file)"
   ]
  },
  {
   "cell_type": "code",
   "execution_count": 4,
   "metadata": {
    "collapsed": false
   },
   "outputs": [],
   "source": [
    "for _ in range(5):\n",
    "    obs,reward,done,info = env.step({})\n",
    "\n",
    "from utils.envParser import ObservationParser"
   ]
  },
  {
   "cell_type": "code",
   "execution_count": 5,
   "metadata": {
    "collapsed": false
   },
   "outputs": [
    {
     "data": {
      "text/plain": [
       "array([[0.03808594, 0.015625  , 0.1       , ..., 0.1       , 0.1       ,\n",
       "        0.1       ],\n",
       "       [0.03222656, 0.015625  , 0.1       , ..., 0.1       , 0.1       ,\n",
       "        0.1       ],\n",
       "       [0.03417969, 0.015625  , 0.1       , ..., 0.1       , 0.1       ,\n",
       "        0.1       ],\n",
       "       ...,\n",
       "       [0.        , 0.        , 0.        , ..., 0.        , 0.        ,\n",
       "        0.        ],\n",
       "       [0.        , 0.        , 0.        , ..., 0.        , 0.        ,\n",
       "        0.        ],\n",
       "       [0.        , 0.        , 0.        , ..., 0.        , 0.        ,\n",
       "        0.        ]])"
      ]
     },
     "execution_count": 5,
     "metadata": {},
     "output_type": "execute_result"
    }
   ],
   "source": [
    "i=7\n",
    "myteam=args.self_group_id\n",
    "\n",
    "parser = ObservationParser()\n",
    "entities, available, order_in_obs, group_id, global_id, cnt, tiles, move_possible  = parser.parse(observations=obs[myteam], args=args)\n",
    "entities"
   ]
  },
  {
   "cell_type": "code",
   "execution_count": 6,
   "metadata": {
    "collapsed": false
   },
   "outputs": [
    {
     "data": {
      "text/plain": [
       "9"
      ]
     },
     "execution_count": 6,
     "metadata": {},
     "output_type": "execute_result"
    }
   ],
   "source": [
    "cnt"
   ]
  },
  {
   "cell_type": "code",
   "execution_count": 7,
   "metadata": {},
   "outputs": [
    {
     "data": {
      "text/plain": [
       "array([[1., 1., 1., 0., 1.],\n",
       "       [1., 1., 1., 0., 1.],\n",
       "       [1., 1., 1., 0., 1.],\n",
       "       [1., 1., 1., 0., 1.],\n",
       "       [1., 1., 1., 0., 1.],\n",
       "       [1., 1., 1., 0., 1.],\n",
       "       [1., 1., 1., 0., 1.],\n",
       "       [0., 0., 0., 0., 0.],\n",
       "       [1., 1., 1., 0., 1.]])"
      ]
     },
     "execution_count": 7,
     "metadata": {},
     "output_type": "execute_result"
    }
   ],
   "source": [
    "move_possible[:cnt,:]"
   ]
  },
  {
   "cell_type": "code",
   "execution_count": 8,
   "metadata": {},
   "outputs": [
    {
     "name": "stdout",
     "output_type": "stream",
     "text": [
      "[120 123 122 121 124 125 126 -31 127]\n"
     ]
    },
    {
     "data": {
      "text/plain": [
       "[2.0, 2.0, 2.0, 0.0, 2.0]"
      ]
     },
     "execution_count": 8,
     "metadata": {},
     "output_type": "execute_result"
    }
   ],
   "source": [
    "print(global_id[:cnt])\n",
    "[obs[15][7]['Tile']['Continuous'][j][1] for j in [97,127,113,111,112] ]"
   ]
  },
  {
   "cell_type": "code",
   "execution_count": 9,
   "metadata": {},
   "outputs": [
    {
     "data": {
      "text/plain": [
       "tensor([[ 0.,  0.,  2.,  2.,  2.],\n",
       "        [ 0.,  0.,  2.,  2.,  2.],\n",
       "        [ 0.,  0.,  2.,  2.,  2.],\n",
       "        [ 0.,  0.,  2., 13.,  2.],\n",
       "        [ 0.,  0.,  2.,  2.,  2.]])"
      ]
     },
     "execution_count": 9,
     "metadata": {},
     "output_type": "execute_result"
    }
   ],
   "source": [
    "# obs[15][7]['Tile']['Continuous'][97,2] = 100\n",
    "# obs[15][7]['Tile']['Continuous'][127,2] = 200\n",
    "# obs[15][7]['Tile']['Continuous'][113,2] = 300\n",
    "# obs[15][7]['Tile']['Continuous'][111,2] = 400\n",
    "# obs[15][7]['Tile']['Continuous'][112,2] = 500\n",
    "torch.tensor(obs[15][7]['Tile']['Continuous'][:,1]).view(15,15)[5:10,5:10]"
   ]
  },
  {
   "cell_type": "code",
   "execution_count": 10,
   "metadata": {},
   "outputs": [
    {
     "data": {
      "text/plain": [
       "tensor([[0., 0., 0., 0., 0.],\n",
       "        [0., 0., 0., 1., 0.],\n",
       "        [0., 0., 1., 0., 0.],\n",
       "        [0., 0., 0., 0., 0.],\n",
       "        [0., 0., 1., 0., 0.]])"
      ]
     },
     "execution_count": 10,
     "metadata": {},
     "output_type": "execute_result"
    }
   ],
   "source": [
    "torch.tensor(obs[15][7]['Tile']['Continuous'][:,0]).view(15,15)[5:10,5:10]"
   ]
  },
  {
   "cell_type": "code",
   "execution_count": 11,
   "metadata": {},
   "outputs": [
    {
     "data": {
      "text/plain": [
       "tensor([[37., 37., 37., 37., 37.],\n",
       "        [38., 38., 38., 38., 38.],\n",
       "        [39., 39., 39., 39., 39.],\n",
       "        [40., 40., 40., 40., 40.],\n",
       "        [41., 41., 41., 41., 41.]])"
      ]
     },
     "execution_count": 11,
     "metadata": {},
     "output_type": "execute_result"
    }
   ],
   "source": [
    "torch.tensor(obs[15][0]['Tile']['Continuous'][:,2]).view(15,15)[5:10,5:10]"
   ]
  },
  {
   "cell_type": "code",
   "execution_count": 12,
   "metadata": {
    "collapsed": false
   },
   "outputs": [
    {
     "data": {
      "text/plain": [
       "array([[15, 15, 15, 15, 15, 15, 15, 16, 15]])"
      ]
     },
     "execution_count": 12,
     "metadata": {},
     "output_type": "execute_result"
    }
   ],
   "source": [
    "group_id[:cnt].reshape(1,-1)"
   ]
  },
  {
   "cell_type": "code",
   "execution_count": 13,
   "metadata": {
    "collapsed": false
   },
   "outputs": [
    {
     "data": {
      "text/plain": [
       "array([[120, 123, 122, 121, 124, 125, 126, -31, 127]])"
      ]
     },
     "execution_count": 13,
     "metadata": {},
     "output_type": "execute_result"
    }
   ],
   "source": [
    "global_id[:cnt].reshape(1,-1)"
   ]
  },
  {
   "cell_type": "code",
   "execution_count": 14,
   "metadata": {
    "collapsed": false
   },
   "outputs": [
    {
     "data": {
      "text/plain": [
       "array([[0, 0, 0, 0, 0, 0, 0, 1, 0]])"
      ]
     },
     "execution_count": 14,
     "metadata": {},
     "output_type": "execute_result"
    }
   ],
   "source": [
    "available[:cnt,i].reshape(1,-1)"
   ]
  },
  {
   "cell_type": "code",
   "execution_count": 15,
   "metadata": {
    "collapsed": false
   },
   "outputs": [
    {
     "data": {
      "text/plain": [
       "array([[0, 0, 0, 0, 4, 3, 2, 1, 0]])"
      ]
     },
     "execution_count": 15,
     "metadata": {},
     "output_type": "execute_result"
    }
   ],
   "source": [
    "order_in_obs[:cnt,i].reshape(1,-1)"
   ]
  },
  {
   "cell_type": "code",
   "execution_count": 16,
   "metadata": {
    "collapsed": false
   },
   "outputs": [
    {
     "data": {
      "text/plain": [
       "array([[  1.,   8.,   0.,   1.,   0.,   0.,   0.,  16.,  38.,   0.,   6.,\n",
       "          0.,   1., 100.,  70.,  70.,   1.,   1.,   1.,   1.,   1.,   1.,\n",
       "          1.,   1.],\n",
       "       [  1.,   5.,   0.,   1.,   0.,   0.,   0.,  16.,  32.,   0.,   6.,\n",
       "          0.,   1., 100.,  70.,  70.,   1.,   1.,   1.,   1.,   1.,   1.,\n",
       "          1.,   1.],\n",
       "       [  1.,   6.,   0.,   1.,   0.,   0.,   0.,  16.,  34.,   0.,   6.,\n",
       "          0.,   1., 100.,  70.,  70.,   1.,   1.,   1.,   1.,   1.,   1.,\n",
       "          1.,   1.],\n",
       "       [  1.,   7.,   0.,   1.,   0.,   0.,   0.,  16.,  36.,   0.,   6.,\n",
       "          0.,   1., 100.,  70.,  70.,   1.,   1.,   1.,   1.,   1.,   1.,\n",
       "          1.,   1.],\n",
       "       [  1., -57.,   0.,   1.,   2.,   0.,  -1.,  16.,  44.,   0.,   4.,\n",
       "          0.,   1., 100., 100., 100.,   1.,   1.,   1.,   0.,   0.,   0.,\n",
       "          0.,   0.]], dtype=float32)"
      ]
     },
     "execution_count": 16,
     "metadata": {},
     "output_type": "execute_result"
    }
   ],
   "source": [
    "obs[0][i]['Entity']['Continuous'][:int(obs[myteam][i]['Entity']['N'])]"
   ]
  },
  {
   "cell_type": "code",
   "execution_count": 17,
   "metadata": {},
   "outputs": [],
   "source": [
    "from model.EntityEncoder import EntityEncoder\n",
    "e_encoder = EntityEncoder(16)"
   ]
  },
  {
   "cell_type": "code",
   "execution_count": 18,
   "metadata": {
    "collapsed": false
   },
   "outputs": [],
   "source": [
    "from model.SpatialEncoder import SpatialEncoder\n",
    "s_encoder = SpatialEncoder(args = args)"
   ]
  },
  {
   "cell_type": "code",
   "execution_count": 19,
   "metadata": {},
   "outputs": [
    {
     "data": {
      "text/plain": [
       "tensor([117.5833, 114.4506, 119.0861, 119.2927, 112.5314, 106.9626, 109.6125,\n",
       "          0.0000, 109.0163], grad_fn=<SumBackward1>)"
      ]
     },
     "execution_count": 19,
     "metadata": {},
     "output_type": "execute_result"
    }
   ],
   "source": [
    "s = torch.Tensor(entities).unsqueeze(dim=0)\n",
    "n = torch.tensor([cnt])\n",
    "t = [torch.Tensor(tiles)]\n",
    "g = torch.tensor(group_id).unsqueeze(dim=0)\n",
    "\n",
    "sp_embed = s_encoder.forward(t, g)\n",
    "sp_embed[0,:cnt].sum(axis=-1)"
   ]
  },
  {
   "cell_type": "code",
   "execution_count": 20,
   "metadata": {
    "collapsed": false
   },
   "outputs": [
    {
     "data": {
      "text/plain": [
       "torch.Size([1, 512, 256])"
      ]
     },
     "execution_count": 20,
     "metadata": {},
     "output_type": "execute_result"
    }
   ],
   "source": [
    "sp_embed.shape"
   ]
  },
  {
   "cell_type": "code",
   "execution_count": 21,
   "metadata": {
    "collapsed": false
   },
   "outputs": [
    {
     "data": {
      "text/plain": [
       "tensor([46.9977, 44.9285, 47.4315, 45.5060, 42.8457, 43.9678, 45.6084, 42.0405,\n",
       "        46.8413], grad_fn=<SumBackward1>)"
      ]
     },
     "execution_count": 21,
     "metadata": {},
     "output_type": "execute_result"
    }
   ],
   "source": [
    "en_embed = e_encoder.forward(s,g,sp_embed,n)\n",
    "en_embed[0,:cnt].sum(-1)"
   ]
  },
  {
   "cell_type": "code",
   "execution_count": 22,
   "metadata": {
    "collapsed": false
   },
   "outputs": [
    {
     "data": {
      "text/plain": [
       "torch.Size([1, 512, 256])"
      ]
     },
     "execution_count": 22,
     "metadata": {},
     "output_type": "execute_result"
    }
   ],
   "source": [
    "en_embed.shape"
   ]
  },
  {
   "cell_type": "code",
   "execution_count": 24,
   "metadata": {
    "collapsed": false
   },
   "outputs": [
    {
     "data": {
      "text/plain": [
       "tensor([0.7892, 0.7892, 7.8923], grad_fn=<SelectBackward0>)"
      ]
     },
     "execution_count": 24,
     "metadata": {},
     "output_type": "execute_result"
    }
   ],
   "source": [
    "avg = en_embed.sum(axis = 1)\n",
    "avg = torch.cat([avg,avg,avg], axis = 0)\n",
    "n = torch.tensor([cnt])\n",
    "n = torch.cat([n,n,n/10], axis = 0).reshape(-1,1)\n",
    "stat = avg/n\n",
    "stat[:,-1]"
   ]
  },
  {
   "cell_type": "code",
   "execution_count": 23,
   "metadata": {},
   "outputs": [
    {
     "data": {
      "text/plain": [
       "torch.Size([1, 3, 128])"
      ]
     },
     "execution_count": 23,
     "metadata": {},
     "output_type": "execute_result"
    }
   ],
   "source": [
    "from model.Core import Core\n",
    "core = Core()\n",
    "hidd = core.init_hidden_state(batch_size=3)\n",
    "\n",
    "hidd[0].shape"
   ]
  },
  {
   "cell_type": "code",
   "execution_count": 24,
   "metadata": {
    "collapsed": false
   },
   "outputs": [
    {
     "data": {
      "text/plain": [
       "torch.Size([3, 256])"
      ]
     },
     "execution_count": 24,
     "metadata": {},
     "output_type": "execute_result"
    }
   ],
   "source": [
    "ret, hidd = core(stat, hidd)\n",
    "ret.shape"
   ]
  },
  {
   "cell_type": "code",
   "execution_count": 25,
   "metadata": {
    "collapsed": false
   },
   "outputs": [
    {
     "data": {
      "text/plain": [
       "torch.Size([1, 3, 128])"
      ]
     },
     "execution_count": 25,
     "metadata": {},
     "output_type": "execute_result"
    }
   ],
   "source": [
    "hidd[0].shape"
   ]
  },
  {
   "cell_type": "code",
   "execution_count": 26,
   "metadata": {},
   "outputs": [],
   "source": [
    "from model.MoveHead import MoveHead\n",
    "moveHead = MoveHead()"
   ]
  },
  {
   "cell_type": "code",
   "execution_count": 27,
   "metadata": {},
   "outputs": [
    {
     "name": "stderr",
     "output_type": "stream",
     "text": [
      "/tmp/ipykernel_4106788/2605343519.py:2: UserWarning: Creating a tensor from a list of numpy.ndarrays is extremely slow. Please consider converting the list to a single numpy.ndarray with numpy.array() before converting to a tensor. (Triggered internally at  ../torch/csrc/utils/tensor_new.cpp:201.)\n",
      "  mv = torch.tensor([move_possible,move_possible,move_possible], dtype=bool)\n"
     ]
    }
   ],
   "source": [
    "sp = torch.cat([sp_embed,sp_embed,sp_embed], axis = 0)\n",
    "mv = torch.tensor([move_possible,move_possible,move_possible], dtype=bool)\n",
    "act, problog = moveHead(ret, sp, mv, mode='train')"
   ]
  },
  {
   "cell_type": "code",
   "execution_count": 28,
   "metadata": {},
   "outputs": [
    {
     "data": {
      "text/plain": [
       "torch.Size([3, 512])"
      ]
     },
     "execution_count": 28,
     "metadata": {},
     "output_type": "execute_result"
    }
   ],
   "source": [
    "act.shape"
   ]
  },
  {
   "cell_type": "code",
   "execution_count": 29,
   "metadata": {},
   "outputs": [
    {
     "data": {
      "text/plain": [
       "tensor([1, 0, 2, 1, 2, 1, 0, 2, 0])"
      ]
     },
     "execution_count": 29,
     "metadata": {},
     "output_type": "execute_result"
    }
   ],
   "source": [
    "act[0,:cnt]"
   ]
  },
  {
   "cell_type": "code",
   "execution_count": 30,
   "metadata": {},
   "outputs": [
    {
     "data": {
      "text/plain": [
       "torch.Size([3, 512, 5])"
      ]
     },
     "execution_count": 30,
     "metadata": {},
     "output_type": "execute_result"
    }
   ],
   "source": [
    "problog.shape"
   ]
  },
  {
   "cell_type": "code",
   "execution_count": 31,
   "metadata": {},
   "outputs": [
    {
     "data": {
      "text/plain": [
       "tensor([[-1.3697, -1.3421, -1.4266,    -inf, -1.4090],\n",
       "        [-1.3353, -1.3244, -1.4609,    -inf, -1.4316],\n",
       "        [-1.3404, -1.3522, -1.4615,    -inf, -1.3955],\n",
       "        [-1.3844, -1.3209, -1.4172,    -inf, -1.4261],\n",
       "        [-1.3513, -1.3712, -1.4616,    -inf, -1.3648],\n",
       "        [-1.3328, -1.3546, -1.4489,    -inf, -1.4130],\n",
       "        [-1.6094, -1.6094, -1.6094, -1.6094, -1.6094],\n",
       "        [-1.3403, -1.3803, -1.4441,    -inf, -1.3833],\n",
       "        [-1.3513, -1.3566, -1.4374,    -inf, -1.4024]],\n",
       "       grad_fn=<SliceBackward0>)"
      ]
     },
     "execution_count": 31,
     "metadata": {},
     "output_type": "execute_result"
    }
   ],
   "source": [
    "problog[0,:cnt]"
   ]
  },
  {
   "cell_type": "code",
   "execution_count": 32,
   "metadata": {},
   "outputs": [
    {
     "data": {
      "text/plain": [
       "tensor([[15, 15, 15, 15, 15, 15, 16, 15, 15],\n",
       "        [15, 15, 15, 15, 15, 15, 16, 15, 15],\n",
       "        [15, 15, 15, 15, 15, 15, 16, 15, 15]])"
      ]
     },
     "execution_count": 32,
     "metadata": {},
     "output_type": "execute_result"
    }
   ],
   "source": [
    "gid = torch.tensor([group_id,group_id,group_id],dtype=int)\n",
    "gid[:,:cnt]"
   ]
  },
  {
   "cell_type": "code",
   "execution_count": 33,
   "metadata": {},
   "outputs": [
    {
     "data": {
      "text/plain": [
       "tensor([15, 15, 15, 15, 15, 15, 15, 15])"
      ]
     },
     "execution_count": 33,
     "metadata": {},
     "output_type": "execute_result"
    }
   ],
   "source": [
    "i=1\n",
    "idx = (gid[i]==args.self_group_id).nonzero().view(-1)\n",
    "gid[i,idx]"
   ]
  },
  {
   "cell_type": "code",
   "execution_count": 34,
   "metadata": {},
   "outputs": [
    {
     "data": {
      "text/plain": [
       "array([0, 3, 2, 1, 4, 5, 6, 7])"
      ]
     },
     "execution_count": 34,
     "metadata": {},
     "output_type": "execute_result"
    }
   ],
   "source": [
    "id = global_id[idx]%8\n",
    "id"
   ]
  },
  {
   "cell_type": "code",
   "execution_count": 35,
   "metadata": {},
   "outputs": [
    {
     "data": {
      "text/plain": [
       "tensor([1, 2, 4, 1, 2, 1, 1, 4])"
      ]
     },
     "execution_count": 35,
     "metadata": {},
     "output_type": "execute_result"
    }
   ],
   "source": [
    "act[i,idx]"
   ]
  },
  {
   "cell_type": "code",
   "execution_count": 36,
   "metadata": {},
   "outputs": [
    {
     "data": {
      "text/plain": [
       "tensor([[-1.3697, -1.3421, -1.4266,    -inf, -1.4090],\n",
       "        [-1.3353, -1.3244, -1.4609,    -inf, -1.4316],\n",
       "        [-1.3404, -1.3522, -1.4615,    -inf, -1.3955],\n",
       "        [-1.3844, -1.3209, -1.4172,    -inf, -1.4261],\n",
       "        [-1.3513, -1.3712, -1.4616,    -inf, -1.3648],\n",
       "        [-1.3328, -1.3546, -1.4489,    -inf, -1.4130],\n",
       "        [-1.3403, -1.3803, -1.4441,    -inf, -1.3833],\n",
       "        [-1.3513, -1.3566, -1.4374,    -inf, -1.4024]],\n",
       "       grad_fn=<IndexBackward0>)"
      ]
     },
     "execution_count": 36,
     "metadata": {},
     "output_type": "execute_result"
    }
   ],
   "source": [
    "problog[i,idx]"
   ]
  },
  {
   "cell_type": "code",
   "execution_count": 37,
   "metadata": {},
   "outputs": [],
   "source": [
    "from model.AttackHead import AttackHead\n",
    "atkHead = AttackHead()"
   ]
  },
  {
   "cell_type": "code",
   "execution_count": 43,
   "metadata": {},
   "outputs": [
    {
     "data": {
      "text/plain": [
       "torch.Size([3, 8, 512])"
      ]
     },
     "execution_count": 43,
     "metadata": {},
     "output_type": "execute_result"
    }
   ],
   "source": [
    "ret.shape\n",
    "# act, problog = moveHead(ret, sp, mv, mode='train')"
   ]
  },
  {
   "cell_type": "code",
   "execution_count": 44,
   "metadata": {},
   "outputs": [
    {
     "data": {
      "text/plain": [
       "torch.Size([3, 512, 256])"
      ]
     },
     "execution_count": 44,
     "metadata": {},
     "output_type": "execute_result"
    }
   ],
   "source": [
    "en = torch.cat([en_embed,en_embed,en_embed], axis = 0)\n",
    "en.shape"
   ]
  },
  {
   "cell_type": "code",
   "execution_count": 45,
   "metadata": {},
   "outputs": [
    {
     "data": {
      "text/plain": [
       "torch.Size([3, 8, 512])"
      ]
     },
     "execution_count": 45,
     "metadata": {},
     "output_type": "execute_result"
    }
   ],
   "source": [
    "av = torch.tensor([available,available,available], dtype=bool).transpose(1,2)\n",
    "av.shape"
   ]
  },
  {
   "cell_type": "code",
   "execution_count": 59,
   "metadata": {},
   "outputs": [
    {
     "name": "stdout",
     "output_type": "stream",
     "text": [
      "[0 3 2 1 4 5 6 7]\n"
     ]
    }
   ],
   "source": [
    "def get_self_embedd(en_embed, global_id, group_id):\n",
    "    idx = (group_id==args.self_group_id).nonzero().view(-1)\n",
    "    real_id = global_id[idx]%8\n",
    "    np.zeros(())\n",
    "    print(real_id)\n",
    "get_self_embedd(en_embed, global_id, gid[0])"
   ]
  }
 ],
 "metadata": {
  "kernelspec": {
   "display_name": "Python 3.9.0 ('mmo')",
   "language": "python",
   "name": "python3"
  },
  "language_info": {
   "codemirror_mode": {
    "name": "ipython",
    "version": 3
   },
   "file_extension": ".py",
   "mimetype": "text/x-python",
   "name": "python",
   "nbconvert_exporter": "python",
   "pygments_lexer": "ipython3",
   "version": "3.9.0"
  },
  "orig_nbformat": 4,
  "vscode": {
   "interpreter": {
    "hash": "7202e056e5a60d623c110cbeb5836682cbbee84a1ceee7701fce5c0853a77654"
   }
  }
 },
 "nbformat": 4,
 "nbformat_minor": 2
}
