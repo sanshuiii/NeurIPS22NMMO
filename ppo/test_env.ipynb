{
 "cells": [
  {
   "cell_type": "code",
   "execution_count": 3,
   "metadata": {},
   "outputs": [
    {
     "name": "stderr",
     "output_type": "stream",
     "text": [
      "100%|██████████| 2/2 [00:00<00:00, 17.27it/s]"
     ]
    },
    {
     "name": "stdout",
     "output_type": "stream",
     "text": [
      "Generating 2 maps\n"
     ]
    },
    {
     "name": "stderr",
     "output_type": "stream",
     "text": [
      "\n"
     ]
    }
   ],
   "source": [
    "import torch\n",
    "import numpy as np\n",
    "import nmmo\n",
    "from nmmo import config\n",
    "from neurips2022nmmo import CompetitionConfig, TeamBasedEnv\n",
    "from nmmo.io import action\n",
    "\n",
    "class TrainConfig(CompetitionConfig):\n",
    "    MAP_N = 2\n",
    "\n",
    "env = TeamBasedEnv(TrainConfig())\n",
    "\n",
    "obs = env.reset()\n",
    "\n",
    "obs,reward,done,info = env.step({})"
   ]
  },
  {
   "cell_type": "code",
   "execution_count": 4,
   "metadata": {
    "collapsed": false
   },
   "outputs": [],
   "source": [
    "import yaml\n",
    "from easydict import EasyDict\n",
    "\n",
    "with open(\"./scripts/config/config.yml\", 'r') as f:\n",
    "    arg_file = yaml.full_load(f)\n",
    "args = EasyDict(arg_file)"
   ]
  },
  {
   "cell_type": "code",
   "execution_count": 5,
   "metadata": {
    "collapsed": false
   },
   "outputs": [],
   "source": [
    "for _ in range(10):\n",
    "    obs,reward,done,info = env.step({})\n",
    "\n",
    "from utils.envParser import ObservationParser"
   ]
  },
  {
   "cell_type": "code",
   "execution_count": 6,
   "metadata": {
    "collapsed": false
   },
   "outputs": [
    {
     "data": {
      "text/plain": [
       "array([[  1., 128.,   0.,   1.,   0.,   0.,  15.,  25.,  16.,   0.,  11.,\n",
       "          0.,   1., 100.,  45.,  45.,   1.,   1.,   1.,   1.,   1.,   1.,\n",
       "          1.,   1.],\n",
       "       [  1., -69.,   0.,   1.,   4.,   0.,  -1.,  21.,  17.,   0.,   8.,\n",
       "          0.,   1., 100., 100., 100.,   1.,   1.,   1.,   0.,   0.,   0.,\n",
       "          0.,   0.],\n",
       "       [  1., -53.,   0.,   1.,   1.,   0.,  -1.,  26.,  17.,   0.,   9.,\n",
       "          0.,   1., 100., 100., 100.,   1.,   1.,   1.,   0.,   0.,   0.,\n",
       "          0.,   0.],\n",
       "       [  1., 127.,   0.,   1.,   0.,   0.,  15.,  27.,  16.,   0.,  11.,\n",
       "          0.,   1., 100.,  45.,  45.,   1.,   1.,   1.,   1.,   1.,   1.,\n",
       "          1.,   1.],\n",
       "       [  1., 126.,   0.,   1.,   0.,   0.,  15.,  29.,  16.,   0.,  11.,\n",
       "          0.,   1., 100.,  45.,  45.,   1.,   1.,   1.,   1.,   1.,   1.,\n",
       "          1.,   1.],\n",
       "       [  1., 125.,   0.,   1.,   0.,   0.,  15.,  31.,  16.,   0.,  11.,\n",
       "          0.,   1., 100.,  45.,  45.,   1.,   1.,   1.,   1.,   1.,   1.,\n",
       "          1.,   1.]], dtype=float32)"
      ]
     },
     "execution_count": 6,
     "metadata": {},
     "output_type": "execute_result"
    }
   ],
   "source": [
    "obs[15][7]['Entity']['Continuous'][:int(obs[15][7]['Entity']['N'])]"
   ]
  },
  {
   "cell_type": "code",
   "execution_count": 7,
   "metadata": {
    "collapsed": false
   },
   "outputs": [
    {
     "name": "stdout",
     "output_type": "stream",
     "text": [
      "[0. 0.]\n",
      "[4. 1.]\n",
      "[1. 1.]\n",
      "[2. 0.]\n",
      "[4. 0.]\n"
     ]
    }
   ],
   "source": [
    "for i in range(5):\n",
    "    x = abs(obs[15][7]['Entity']['Continuous'][i][7:9]-obs[15][7]['Entity']['Continuous'][0][7:9])\n",
    "    print(x)"
   ]
  },
  {
   "cell_type": "code",
   "execution_count": 8,
   "metadata": {
    "collapsed": false
   },
   "outputs": [
    {
     "ename": "ValueError",
     "evalue": "too many values to unpack (expected 7)",
     "output_type": "error",
     "traceback": [
      "\u001B[0;31m---------------------------------------------------------------------------\u001B[0m",
      "\u001B[0;31mValueError\u001B[0m                                Traceback (most recent call last)",
      "Cell \u001B[0;32mIn [8], line 2\u001B[0m\n\u001B[1;32m      1\u001B[0m parser \u001B[39m=\u001B[39m ObservationParser()\n\u001B[0;32m----> 2\u001B[0m entities, available, order_in_obs, group_id, global_id, cnt, tiles \u001B[39m=\u001B[39m parser\u001B[39m.\u001B[39mparse(obs[\u001B[39m15\u001B[39m], args)\n",
      "\u001B[0;31mValueError\u001B[0m: too many values to unpack (expected 7)"
     ]
    }
   ],
   "source": [
    "parser = ObservationParser()\n",
    "entities, available, order_in_obs, group_id, global_id, cnt, tiles = parser.parse(obs[15], args)"
   ]
  },
  {
   "cell_type": "code",
   "execution_count": 20,
   "metadata": {
    "collapsed": false
   },
   "outputs": [
    {
     "name": "stdout",
     "output_type": "stream",
     "text": [
      "[0 0 0 0 0 0 0 0 0 1]\n",
      "[ 120  123  122  121 -127  124  125  126  127  -78]\n"
     ]
    }
   ],
   "source": [
    "print(available[:cnt,7])\n",
    "print(global_id[:cnt])"
   ]
  },
  {
   "cell_type": "code",
   "execution_count": 1,
   "metadata": {
    "collapsed": false
   },
   "outputs": [
    {
     "ename": "NameError",
     "evalue": "name 'obs' is not defined",
     "output_type": "error",
     "traceback": [
      "\u001B[0;31m---------------------------------------------------------------------------\u001B[0m",
      "\u001B[0;31mNameError\u001B[0m                                 Traceback (most recent call last)",
      "Cell \u001B[0;32mIn [1], line 1\u001B[0m\n\u001B[0;32m----> 1\u001B[0m obs[\u001B[39m0\u001B[39m][\u001B[39m1\u001B[39m][\u001B[39m'\u001B[39m\u001B[39mTile\u001B[39m\u001B[39m'\u001B[39m][\u001B[39m'\u001B[39m\u001B[39mContinuous\u001B[39m\u001B[39m'\u001B[39m]\n",
      "\u001B[0;31mNameError\u001B[0m: name 'obs' is not defined"
     ]
    }
   ],
   "source": [
    "obs[0][1]['Tile']['Continuous']\n",
    "# [obs[0][0]['Tile']['Continuous'][i][1] for i in [97,111,112,113,126] ]\n"
   ]
  },
  {
   "cell_type": "code",
   "execution_count": 16,
   "metadata": {
    "collapsed": false
   },
   "outputs": [],
   "source": [
    "'''\n",
    "0: i-1\n",
    "1: i+1\n",
    "2: j+1\n",
    "3: j-1\n",
    "'''\n",
    "actions_by_team = {\n",
    "    0: {\n",
    "        0:  {\n",
    "            action.Move: {\n",
    "                action.Direction: 2\n",
    "            },\n",
    "            action.Attack:{\n",
    "                action.Style: 0,\n",
    "                action.Target: 1\n",
    "            },\n",
    "        }\n",
    "    }\n",
    "}\n",
    "\n",
    "obs,_,_,_ = env.step(actions_by_team)"
   ]
  }
 ],
 "metadata": {
  "kernelspec": {
   "display_name": "Python 3.9.0 ('mmo')",
   "language": "python",
   "name": "python3"
  },
  "language_info": {
   "codemirror_mode": {
    "name": "ipython",
    "version": 3
   },
   "file_extension": ".py",
   "mimetype": "text/x-python",
   "name": "python",
   "nbconvert_exporter": "python",
   "pygments_lexer": "ipython3",
   "version": "3.9.0"
  },
  "orig_nbformat": 4,
  "vscode": {
   "interpreter": {
    "hash": "7202e056e5a60d623c110cbeb5836682cbbee84a1ceee7701fce5c0853a77654"
   }
  }
 },
 "nbformat": 4,
 "nbformat_minor": 2
}
