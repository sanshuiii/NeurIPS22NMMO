{
 "cells": [
  {
   "cell_type": "code",
   "execution_count": 1,
   "metadata": {},
   "outputs": [
    {
     "name": "stderr",
     "output_type": "stream",
     "text": [
      "100%|██████████| 2/2 [00:00<00:00, 17.38it/s]"
     ]
    },
    {
     "name": "stdout",
     "output_type": "stream",
     "text": [
      "Generating 2 maps\n"
     ]
    },
    {
     "name": "stderr",
     "output_type": "stream",
     "text": [
      "\n"
     ]
    }
   ],
   "source": [
    "import torch\n",
    "import numpy as np\n",
    "import nmmo\n",
    "from nmmo import config\n",
    "from neurips2022nmmo import CompetitionConfig, TeamBasedEnv\n",
    "from nmmo.io import action\n",
    "\n",
    "class TrainConfig(CompetitionConfig):\n",
    "    MAP_N = 2\n",
    "\n",
    "env = TeamBasedEnv(TrainConfig())\n",
    "\n",
    "obs = env.reset()\n",
    "\n",
    "obs,reward,done,info = env.step({})"
   ]
  },
  {
   "cell_type": "code",
   "execution_count": 2,
   "metadata": {
    "collapsed": false
   },
   "outputs": [],
   "source": [
    "import yaml\n",
    "from easydict import EasyDict\n",
    "\n",
    "with open(\"./scripts/config/config.yml\", 'r') as f:\n",
    "    arg_file = yaml.full_load(f)\n",
    "args = EasyDict(arg_file)"
   ]
  },
  {
   "cell_type": "code",
   "execution_count": 3,
   "metadata": {
    "collapsed": false
   },
   "outputs": [],
   "source": [
    "for _ in range(5):\n",
    "    obs,reward,done,info = env.step({})\n",
    "\n",
    "from utils.envParser import ObservationParser"
   ]
  },
  {
   "cell_type": "code",
   "execution_count": 4,
   "metadata": {
    "collapsed": false
   },
   "outputs": [
    {
     "data": {
      "text/plain": [
       "array([[0.03808594, 0.015625  , 0.1       , ..., 0.1       , 0.1       ,\n",
       "        0.1       ],\n",
       "       [0.03222656, 0.015625  , 0.1       , ..., 0.1       , 0.1       ,\n",
       "        0.1       ],\n",
       "       [0.03417969, 0.015625  , 0.1       , ..., 0.1       , 0.1       ,\n",
       "        0.1       ],\n",
       "       ...,\n",
       "       [0.        , 0.        , 0.        , ..., 0.        , 0.        ,\n",
       "        0.        ],\n",
       "       [0.        , 0.        , 0.        , ..., 0.        , 0.        ,\n",
       "        0.        ],\n",
       "       [0.        , 0.        , 0.        , ..., 0.        , 0.        ,\n",
       "        0.        ]])"
      ]
     },
     "execution_count": 4,
     "metadata": {},
     "output_type": "execute_result"
    }
   ],
   "source": [
    "i=7\n",
    "myteam=args.self_group_id\n",
    "\n",
    "parser = ObservationParser()\n",
    "entities, available, order_in_obs, group_id, global_id, cnt, tiles  = parser.parse(observations=obs[myteam], args=args)\n",
    "entities"
   ]
  },
  {
   "cell_type": "code",
   "execution_count": 5,
   "metadata": {
    "collapsed": false
   },
   "outputs": [
    {
     "data": {
      "text/plain": [
       "9"
      ]
     },
     "execution_count": 5,
     "metadata": {},
     "output_type": "execute_result"
    }
   ],
   "source": [
    "cnt"
   ]
  },
  {
   "cell_type": "code",
   "execution_count": 6,
   "metadata": {
    "collapsed": false
   },
   "outputs": [
    {
     "data": {
      "text/plain": [
       "array([[15, 15, 15, 15, 15, 15, 15, 15, 16]])"
      ]
     },
     "execution_count": 6,
     "metadata": {},
     "output_type": "execute_result"
    }
   ],
   "source": [
    "group_id[:cnt].reshape(1,-1)"
   ]
  },
  {
   "cell_type": "code",
   "execution_count": 7,
   "metadata": {
    "collapsed": false
   },
   "outputs": [
    {
     "data": {
      "text/plain": [
       "array([[120, 123, 122, 121, 124, 125, 126, 127, -79]])"
      ]
     },
     "execution_count": 7,
     "metadata": {},
     "output_type": "execute_result"
    }
   ],
   "source": [
    "global_id[:cnt].reshape(1,-1)"
   ]
  },
  {
   "cell_type": "code",
   "execution_count": 8,
   "metadata": {
    "collapsed": false
   },
   "outputs": [
    {
     "data": {
      "text/plain": [
       "array([[0, 0, 0, 0, 1, 1, 1, 1, 1]])"
      ]
     },
     "execution_count": 8,
     "metadata": {},
     "output_type": "execute_result"
    }
   ],
   "source": [
    "available[:cnt,i].reshape(1,-1)"
   ]
  },
  {
   "cell_type": "code",
   "execution_count": 9,
   "metadata": {
    "collapsed": false
   },
   "outputs": [
    {
     "data": {
      "text/plain": [
       "array([[0, 0, 0, 0, 4, 3, 2, 0, 1]])"
      ]
     },
     "execution_count": 9,
     "metadata": {},
     "output_type": "execute_result"
    }
   ],
   "source": [
    "order_in_obs[:cnt,i].reshape(1,-1)"
   ]
  },
  {
   "cell_type": "code",
   "execution_count": 10,
   "metadata": {
    "collapsed": false
   },
   "outputs": [
    {
     "data": {
      "text/plain": [
       "array([[  1.,   8.,   0.,   1.,   0.,   0.,   0.,  16.,  38.,   0.,   6.,\n",
       "          0.,   1., 100.,  70.,  70.,   1.,   1.,   1.,   1.,   1.,   1.,\n",
       "          1.,   1.],\n",
       "       [  1.,   5.,   0.,   1.,   0.,   0.,   0.,  16.,  32.,   0.,   6.,\n",
       "          0.,   1., 100.,  70.,  70.,   1.,   1.,   1.,   1.,   1.,   1.,\n",
       "          1.,   1.],\n",
       "       [  1.,   6.,   0.,   1.,   0.,   0.,   0.,  16.,  34.,   0.,   6.,\n",
       "          0.,   1., 100.,  70.,  70.,   1.,   1.,   1.,   1.,   1.,   1.,\n",
       "          1.,   1.],\n",
       "       [  1.,   7.,   0.,   1.,   0.,   0.,   0.,  16.,  36.,   0.,   6.,\n",
       "          0.,   1., 100.,  70.,  70.,   1.,   1.,   1.,   1.,   1.,   1.,\n",
       "          1.,   1.],\n",
       "       [  0.,   0.,   0.,   0.,   0.,   0.,   0.,   0.,   0.,   0.,   0.,\n",
       "          0.,   0.,   0.,   0.,   0.,   0.,   0.,   0.,   0.,   0.,   0.,\n",
       "          0.,   0.]], dtype=float32)"
      ]
     },
     "execution_count": 10,
     "metadata": {},
     "output_type": "execute_result"
    }
   ],
   "source": [
    "obs[0][i]['Entity']['Continuous'][:int(obs[myteam][i]['Entity']['N'])]"
   ]
  },
  {
   "cell_type": "code",
   "execution_count": 11,
   "metadata": {},
   "outputs": [],
   "source": [
    "from model.EntityEncoder import EntityEncoder\n",
    "e_encoder = EntityEncoder(16)"
   ]
  },
  {
   "cell_type": "code",
   "execution_count": 12,
   "metadata": {
    "collapsed": false
   },
   "outputs": [],
   "source": [
    "from model.SpatialEncoder import SpatialEncoder\n",
    "s_encoder = SpatialEncoder(args = args)"
   ]
  },
  {
   "cell_type": "code",
   "execution_count": 22,
   "metadata": {},
   "outputs": [
    {
     "data": {
      "text/plain": [
       "tensor([141.9759, 141.9759, 141.9759, 141.9759, 147.1165, 140.7313, 139.4522,\n",
       "        155.7134,   0.0000], grad_fn=<SumBackward1>)"
      ]
     },
     "execution_count": 22,
     "metadata": {},
     "output_type": "execute_result"
    }
   ],
   "source": [
    "s = torch.Tensor(entities).unsqueeze(dim=0)\n",
    "n = torch.tensor([cnt])\n",
    "t = [torch.Tensor(tiles)]\n",
    "g = torch.tensor(group_id).unsqueeze(dim=0)\n",
    "\n",
    "sp_embed = s_encoder.forward(t, g)\n",
    "sp_embed[0,:cnt].sum(axis=-1)"
   ]
  },
  {
   "cell_type": "code",
   "execution_count": 21,
   "metadata": {
    "collapsed": false
   },
   "outputs": [
    {
     "data": {
      "text/plain": [
       "torch.Size([1, 512, 256])"
      ]
     },
     "execution_count": 21,
     "metadata": {},
     "output_type": "execute_result"
    }
   ],
   "source": [
    "sp_embed.shape"
   ]
  },
  {
   "cell_type": "code",
   "execution_count": 29,
   "metadata": {
    "collapsed": false
   },
   "outputs": [
    {
     "data": {
      "text/plain": [
       "tensor([46.1565, 46.1579, 46.1574, 46.1570, 41.6435, 42.9042, 46.9774, 41.7789,\n",
       "        44.2804], grad_fn=<SumBackward1>)"
      ]
     },
     "execution_count": 29,
     "metadata": {},
     "output_type": "execute_result"
    }
   ],
   "source": [
    "en_embed = e_encoder.forward(s,g,sp_embed,n)\n",
    "en_embed[0,:cnt].sum(-1)"
   ]
  },
  {
   "cell_type": "code",
   "execution_count": 23,
   "metadata": {
    "collapsed": false
   },
   "outputs": [
    {
     "data": {
      "text/plain": [
       "torch.Size([1, 512, 256])"
      ]
     },
     "execution_count": 23,
     "metadata": {},
     "output_type": "execute_result"
    }
   ],
   "source": [
    "en_embed.shape"
   ]
  },
  {
   "cell_type": "code",
   "execution_count": 15,
   "metadata": {},
   "outputs": [
    {
     "name": "stderr",
     "output_type": "stream",
     "text": [
      "IOPub data rate exceeded.\n",
      "The notebook server will temporarily stop sending output\n",
      "to the client in order to avoid crashing it.\n",
      "To change this limit, set the config variable\n",
      "`--NotebookApp.iopub_data_rate_limit`.\n",
      "\n",
      "Current values:\n",
      "NotebookApp.iopub_data_rate_limit=1000000.0 (bytes/sec)\n",
      "NotebookApp.rate_limit_window=3.0 (secs)\n",
      "\n"
     ]
    }
   ],
   "source": [
    "actions_by_team = {\n",
    "    0: {\n",
    "        0:  {\n",
    "            action.Move: {\n",
    "                action.Direction: 0\n",
    "            },\n",
    "            # action.Attack:{\n",
    "            #     action.Style: 0,\n",
    "            #     action.Target: 1\n",
    "            # },\n",
    "        }\n",
    "    }\n",
    "}\n",
    "# obs,reward,done,info = env.step(actions_by_team)\n",
    "obs = env.reset()\n",
    "\n",
    "print(obs)\n",
    "\n",
    "print(obs[0]['stat'])\n",
    "print(obs[0].keys())\n",
    "print(obs[0][0]['Entity']['Continuous'][:int(obs[0][0]['Entity']['N'])])\n",
    "# print(obs[0][1]['Entity']['Continuous'][:int(obs[0][1]['Entity']['N'])])\n",
    "\n",
    "print([obs[0][0]['Tile']['Continuous'][i][1] for i in [97,111,112,113,126] ])"
   ]
  },
  {
   "cell_type": "code",
   "execution_count": 191,
   "metadata": {},
   "outputs": [
    {
     "data": {
      "text/plain": [
       "array([[[0, 1],\n",
       "        [1, 2]],\n",
       "\n",
       "       [[2, 3],\n",
       "        [6, 8]]])"
      ]
     },
     "execution_count": 191,
     "metadata": {},
     "output_type": "execute_result"
    }
   ],
   "source": [
    "import numpy as np\n",
    "import torch\n",
    "\n",
    "a = np.array([[[0,1],[1,2]],[[2,3],[6,8]]])\n",
    "a"
   ]
  },
  {
   "cell_type": "code",
   "execution_count": 192,
   "metadata": {},
   "outputs": [
    {
     "data": {
      "text/plain": [
       "tensor([[[ True, False],\n",
       "         [ True, False]],\n",
       "\n",
       "        [[False, False],\n",
       "         [False, False]]])"
      ]
     },
     "execution_count": 192,
     "metadata": {},
     "output_type": "execute_result"
    }
   ],
   "source": [
    "a = torch.Tensor(a)\n",
    "msk = torch.tensor([[[0,1],[0,1]],[[1,1],[1,1]]],dtype=bool)\n",
    "~msk"
   ]
  },
  {
   "cell_type": "code",
   "execution_count": 225,
   "metadata": {},
   "outputs": [
    {
     "data": {
      "text/plain": [
       "tensor([[[   -inf,  0.0000],\n",
       "         [   -inf,  0.0000]],\n",
       "\n",
       "        [[-1.3133, -0.3133],\n",
       "         [-2.1269, -0.1269]]])"
      ]
     },
     "execution_count": 225,
     "metadata": {},
     "output_type": "execute_result"
    }
   ],
   "source": [
    "b = a.masked_fill_(~msk, -1e9)\n",
    "c = b.softmax(dim=-1)\n",
    "c.log()"
   ]
  },
  {
   "cell_type": "code",
   "execution_count": 224,
   "metadata": {},
   "outputs": [
    {
     "data": {
      "text/plain": [
       "tensor([[1, 1],\n",
       "        [1, 1]])"
      ]
     },
     "execution_count": 224,
     "metadata": {},
     "output_type": "execute_result"
    }
   ],
   "source": [
    "from torch.distributions import Categorical\n",
    "m = Categorical(c)\n",
    "m.sample()"
   ]
  }
 ],
 "metadata": {
  "kernelspec": {
   "display_name": "Python 3.9.0 ('mmo')",
   "language": "python",
   "name": "python3"
  },
  "language_info": {
   "codemirror_mode": {
    "name": "ipython",
    "version": 3
   },
   "file_extension": ".py",
   "mimetype": "text/x-python",
   "name": "python",
   "nbconvert_exporter": "python",
   "pygments_lexer": "ipython3",
   "version": "3.9.0"
  },
  "orig_nbformat": 4,
  "vscode": {
   "interpreter": {
    "hash": "7202e056e5a60d623c110cbeb5836682cbbee84a1ceee7701fce5c0853a77654"
   }
  }
 },
 "nbformat": 4,
 "nbformat_minor": 2
}
