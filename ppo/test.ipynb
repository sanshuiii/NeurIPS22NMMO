{
 "cells": [
  {
   "cell_type": "code",
   "execution_count": null,
   "metadata": {
    "pycharm": {
     "is_executing": true
    }
   },
   "outputs": [],
   "source": [
    "import torch\n",
    "import numpy as np\n",
    "import nmmo\n",
    "from nmmo import config\n",
    "from neurips2022nmmo import CompetitionConfig, TeamBasedEnv\n",
    "from nmmo.io import action\n",
    "\n",
    "class TrainConfig(CompetitionConfig):\n",
    "    MAP_N = 2\n",
    "\n",
    "env = TeamBasedEnv(TrainConfig())\n",
    "\n",
    "obs = env.reset()\n",
    "\n",
    "obs,reward,done,info = env.step({})\n",
    "\n",
    "obs[1]"
   ]
  },
  {
   "cell_type": "code",
   "execution_count": null,
   "outputs": [],
   "source": [
    "from utils.envParser import ObservationParser\n",
    "\n",
    "parser = ObservationParser()\n",
    "entities, available, order_in_obs, tiles  = parser.parse(observations=obs[1])\n",
    "entities"
   ],
   "metadata": {
    "collapsed": false,
    "pycharm": {
     "is_executing": true
    }
   }
  },
  {
   "cell_type": "code",
   "execution_count": null,
   "metadata": {},
   "outputs": [],
   "source": [
    "\n",
    "print(obs[1]['Entity']['Continuous'][0:int(obs[1]['Entity']['N'])])"
   ]
  },
  {
   "cell_type": "code",
   "execution_count": null,
   "metadata": {},
   "outputs": [],
   "source": [
    "from neurips2022nmmo import CompetitionConfig, TeamBasedEnv\n",
    "\n",
    "env = TeamBasedEnv(CompetitionConfig())\n",
    "\n",
    "obs = env.reset()\n",
    "\n",
    "obs,reward,done,info = env.step({})\n",
    "\n",
    "obs[0]"
   ]
  },
  {
   "cell_type": "code",
   "execution_count": null,
   "metadata": {},
   "outputs": [],
   "source": [
    "actions_by_team = {\n",
    "    0: {\n",
    "        0:  {\n",
    "            action.Move: {\n",
    "                action.Direction: 0\n",
    "            },\n",
    "            # action.Attack:{\n",
    "            #     action.Style: 0,\n",
    "            #     action.Target: 1\n",
    "            # },\n",
    "        }\n",
    "    }\n",
    "}\n",
    "# obs,reward,done,info = env.step(actions_by_team)\n",
    "obs = env.reset()\n",
    "\n",
    "print(obs)\n",
    "\n",
    "print(obs[0]['stat'])\n",
    "print(obs[0].keys())\n",
    "print(obs[0][0]['Entity']['Continuous'][:int(obs[0][0]['Entity']['N'])])\n",
    "# print(obs[0][1]['Entity']['Continuous'][:int(obs[0][1]['Entity']['N'])])\n",
    "\n",
    "print([obs[0][0]['Tile']['Continuous'][i][1] for i in [97,111,112,113,126] ])"
   ]
  },
  {
   "cell_type": "code",
   "execution_count": null,
   "metadata": {},
   "outputs": [],
   "source": [
    "print(obs[1][0]['Item']['Continuous'][0:int(obs[1][0]['Item']['N'])])"
   ]
  },
  {
   "cell_type": "code",
   "execution_count": null,
   "metadata": {},
   "outputs": [],
   "source": [
    "print(obs[1][0]['Market']['Continuous'])\n",
    "print(obs[1][0]['Market']['N'])"
   ]
  }
 ],
 "metadata": {
  "kernelspec": {
   "display_name": "Python 3.9.0 ('neurips2022-nmmo')",
   "language": "python",
   "name": "python3"
  },
  "language_info": {
   "codemirror_mode": {
    "name": "ipython",
    "version": 3
   },
   "file_extension": ".py",
   "mimetype": "text/x-python",
   "name": "python",
   "nbconvert_exporter": "python",
   "pygments_lexer": "ipython3",
   "version": "3.9.0"
  },
  "orig_nbformat": 4,
  "vscode": {
   "interpreter": {
    "hash": "1a193a7250e8d124663b2c3c5b55ba67f181c359b9a37b564990c6659f3a0a37"
   }
  }
 },
 "nbformat": 4,
 "nbformat_minor": 2
}
